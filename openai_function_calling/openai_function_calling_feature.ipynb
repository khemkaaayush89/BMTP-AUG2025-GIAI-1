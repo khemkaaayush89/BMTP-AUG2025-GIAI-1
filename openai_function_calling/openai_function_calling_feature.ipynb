{
 "cells": [
  {
   "cell_type": "markdown",
   "id": "c7a1341c",
   "metadata": {},
   "source": [
    "# OpenAI Function Calling Tutorial\n",
    "Learn how to extend ChatGPT's capabilities with custom functions\n",
    "\n",
    "## What is Function Calling?\n",
    "- Allows ChatGPT to call external functions/APIs\n",
    "- Converts natural language requests into structured function calls\n",
    "- Enables ChatGPT to interact with real-world systems\n",
    "\n",
    "## What we'll cover:\n",
    "1. Basic function calling concepts\n",
    "2. Function definition and schema\n",
    "3. Simple examples (calculator, weather)\n",
    "4. Advanced examples (database queries, API calls)\n",
    "5. Best practices and error handling\n",
    "6. Real-world applications"
   ]
  },
  {
   "cell_type": "code",
   "id": "b7aa2927",
   "metadata": {
    "ExecuteTime": {
     "end_time": "2025-08-24T11:17:25.602038Z",
     "start_time": "2025-08-24T11:17:25.574637Z"
    }
   },
   "source": [
    "import openai\n",
    "import os\n",
    "\n",
    "openai.api_key = os.getenv(\"openai_api_key\")\n"
   ],
   "outputs": [],
   "execution_count": 6
  },
  {
   "cell_type": "code",
   "id": "6b2229a0",
   "metadata": {
    "ExecuteTime": {
     "end_time": "2025-08-24T08:19:50.379275Z",
     "start_time": "2025-08-24T08:19:50.342319Z"
    }
   },
   "source": [
    "client = openai.OpenAI(api_key=openai.api_key)"
   ],
   "outputs": [],
   "execution_count": 2
  },
  {
   "cell_type": "code",
   "id": "7a675bae",
   "metadata": {
    "ExecuteTime": {
     "end_time": "2025-08-24T11:18:42.735956Z",
     "start_time": "2025-08-24T11:18:40.405094Z"
    }
   },
   "source": [
    "response = client.chat.completions.create(\n",
    "    model=\"gpt-5-mini\",\n",
    "    messages=[\n",
    "        {\"role\": \"user\", \"content\": \"What's 15 * 23 + 45?\"}\n",
    "    ]\n",
    ")\n",
    "\n",
    "print(\"Traditional Response:\")\n",
    "print(response.choices[0].message.content)"
   ],
   "outputs": [
    {
     "name": "stdout",
     "output_type": "stream",
     "text": [
      "Traditional Response:\n",
      "15 × 23 = 345, and 345 + 45 = 390.\n"
     ]
    }
   ],
   "execution_count": 7
  },
  {
   "metadata": {
    "ExecuteTime": {
     "end_time": "2025-08-24T11:20:03.908674Z",
     "start_time": "2025-08-24T11:20:03.897615Z"
    }
   },
   "cell_type": "code",
   "source": "print(response.choices[0].message)",
   "id": "b634b0b9a1284303",
   "outputs": [
    {
     "name": "stdout",
     "output_type": "stream",
     "text": [
      "ChatCompletionMessage(content='15 × 23 = 345, and 345 + 45 = 390.', refusal=None, role='assistant', annotations=[], audio=None, function_call=None, tool_calls=None)\n"
     ]
    }
   ],
   "execution_count": 8
  },
  {
   "metadata": {},
   "cell_type": "code",
   "outputs": [],
   "execution_count": null,
   "source": "",
   "id": "5481bbd7ee8fb7ce"
  },
  {
   "cell_type": "code",
   "execution_count": null,
   "id": "39e2ec02",
   "metadata": {},
   "outputs": [],
   "source": [
    "def get_open_ai_response(prompt):\n",
    "    response = client.chat.completions.create(\n",
    "    model=\"gpt-5-mini\",\n",
    "    messages=[\n",
    "        {\"role\": \"system\", \"content\": \"You are specialized in GEN AI so answer the question like a GEN AI specialist\"},\n",
    "        {\"role\": \"user\", \"content\": prompt}\n",
    "    ]\n",
    "    )\n",
    "\n",
    "    print(\"Traditional Response:\")\n",
    "    print(response.choices[0].message.content)\n"
   ]
  },
  {
   "cell_type": "code",
   "execution_count": null,
   "id": "2d4d66b6",
   "metadata": {},
   "outputs": [
    {
     "name": "stdout",
     "output_type": "stream",
     "text": [
      "Traditional Response:\n",
      "The current Prime Minister of India is Narendra Modi.\n"
     ]
    }
   ],
   "source": [
    "get_open_ai_response(\"Who is PM of India\")"
   ]
  },
  {
   "cell_type": "code",
   "execution_count": null,
   "id": "be731e54",
   "metadata": {},
   "outputs": [
    {
     "name": "stdout",
     "output_type": "stream",
     "text": [
      "Traditional Response:\n",
      "The current Prime Minister of India is Narendra Modi.\n"
     ]
    }
   ],
   "source": [
    "get_open_ai_response(\"Who is PM of India\")"
   ]
  },
  {
   "cell_type": "code",
   "execution_count": null,
   "id": "3d52b2ef",
   "metadata": {},
   "outputs": [
    {
     "name": "stdout",
     "output_type": "stream",
     "text": [
      "Traditional Response:\n",
      "The result of 2 + 2 * 75 is 152.\n"
     ]
    }
   ],
   "source": [
    "get_open_ai_response(\"answer me 2+2*75\")"
   ]
  },
  {
   "cell_type": "code",
   "execution_count": null,
   "id": "4d3cf989",
   "metadata": {},
   "outputs": [],
   "source": [
    "def get_open_ai_response(prompt):\n",
    "    response = client.chat.completions.create(\n",
    "    model=\"gpt-5-mini\",\n",
    "    messages=[\n",
    "        {\"role\": \"system\", \"content\": \"You are an expert AI mathematician with deep knowledge across all areas of mathematics, from elementary arithmetic to advanced topics like topology, abstract algebra, real analysis, complex analysis, differential equations, number theory, combinatorics, probability theory, statistics, discrete mathematics, linear algebra, and mathematical logic.\"},\n",
    "        {\"role\": \"user\", \"content\": prompt}\n",
    "    ],\n",
    "    )\n",
    "    \n",
    "\n",
    "    print(\"Traditional Response:\")\n",
    "    print(response.choices[0].message.content)\n"
   ]
  },
  {
   "cell_type": "code",
   "execution_count": null,
   "id": "fadf3c71",
   "metadata": {},
   "outputs": [
    {
     "name": "stdout",
     "output_type": "stream",
     "text": [
      "Traditional Response:\n",
      "To solve the expression \\(2 + 2 \\times 75\\), you need to follow the order of operations, often remembered by the acronym PEMDAS (Parentheses, Exponents, Multiplication and Division (from left to right), Addition and Subtraction (from left to right)).\n",
      "\n",
      "1. First, perform the multiplication: \\(2 \\times 75 = 150\\).\n",
      "2. Then, perform the addition: \\(2 + 150 = 152\\).\n",
      "\n",
      "Therefore, the answer is \\(152\\).\n"
     ]
    }
   ],
   "source": [
    "get_open_ai_response(\"answer me 2+2*75\")"
   ]
  },
  {
   "cell_type": "code",
   "id": "3077d0ac",
   "metadata": {
    "ExecuteTime": {
     "end_time": "2025-08-24T11:24:12.144622Z",
     "start_time": "2025-08-24T11:24:12.129590Z"
    }
   },
   "source": [
    "# Define a simple calculator function\n",
    "def calculate(operation: str, a: float, b: float) -> float:\n",
    "    \"\"\"\n",
    "    Perform basic mathematical operations\n",
    "    \n",
    "    Args:\n",
    "        operation: The operation to perform (+, -, *, /)\n",
    "        a: First number\n",
    "        b: Second number\n",
    "    \n",
    "    Returns:\n",
    "        Result of the calculation\n",
    "    \"\"\"\n",
    "    if operation == \"+\":\n",
    "        return a + b\n",
    "    elif operation == \"-\":\n",
    "        return a - b\n",
    "    elif operation == \"*\":\n",
    "        return a * b\n",
    "    elif operation == \"/\":\n",
    "        return a / b if b != 0 else \"Error: Division by zero\"\n",
    "    else:\n",
    "        return \"Error: Unsupported operation\"\n",
    "\n",
    "# Test the function\n",
    "result = calculate(\"*\", 15, 23)\n",
    "print(f\"15 * 23 = {result}\")"
   ],
   "outputs": [
    {
     "name": "stdout",
     "output_type": "stream",
     "text": [
      "15 * 23 = 345\n"
     ]
    }
   ],
   "execution_count": 9
  },
  {
   "cell_type": "code",
   "id": "c2b57e1b",
   "metadata": {
    "ExecuteTime": {
     "end_time": "2025-08-24T11:27:20.308071Z",
     "start_time": "2025-08-24T11:27:20.287643Z"
    }
   },
   "source": [
    "import json\n",
    "# Define the function schema for OpenAI\n",
    "calculator_function = {\n",
    "    \"name\": \"calculate\",\n",
    "    \"description\": \"Perform basic mathematical operations like addition, subtraction, multiplication, and division\",\n",
    "    \"parameters\": {\n",
    "        \"type\": \"object\",\n",
    "        \"properties\": {\n",
    "            \"operation\": {\n",
    "                \"type\": \"string\",\n",
    "                \"description\": \"The mathematical operation to perform\",\n",
    "                \"enum\": [\"+\", \"-\", \"*\", \"/\"]\n",
    "            },\n",
    "            \"a\": {\n",
    "                \"type\": \"number\",\n",
    "                \"description\": \"The first number\"\n",
    "            },\n",
    "            \"b\": {\n",
    "                \"type\": \"number\",\n",
    "                \"description\": \"The second number\"\n",
    "            }\n",
    "        },\n",
    "        \"required\": [\"operation\", \"a\", \"b\"]\n",
    "    }\n",
    "}\n",
    "\n",
    "print(\"📋 Function schema defined!\")\n",
    "print(json.dumps(calculator_function, indent=2))"
   ],
   "outputs": [
    {
     "name": "stdout",
     "output_type": "stream",
     "text": [
      "📋 Function schema defined!\n",
      "{\n",
      "  \"name\": \"calculate\",\n",
      "  \"description\": \"Perform basic mathematical operations like addition, subtraction, multiplication, and division\",\n",
      "  \"parameters\": {\n",
      "    \"type\": \"object\",\n",
      "    \"properties\": {\n",
      "      \"operation\": {\n",
      "        \"type\": \"string\",\n",
      "        \"description\": \"The mathematical operation to perform\",\n",
      "        \"enum\": [\n",
      "          \"+\",\n",
      "          \"-\",\n",
      "          \"*\",\n",
      "          \"/\"\n",
      "        ]\n",
      "      },\n",
      "      \"a\": {\n",
      "        \"type\": \"number\",\n",
      "        \"description\": \"The first number\"\n",
      "      },\n",
      "      \"b\": {\n",
      "        \"type\": \"number\",\n",
      "        \"description\": \"The second number\"\n",
      "      }\n",
      "    },\n",
      "    \"required\": [\n",
      "      \"operation\",\n",
      "      \"a\",\n",
      "      \"b\"\n",
      "    ]\n",
      "  }\n",
      "}\n"
     ]
    }
   ],
   "execution_count": 10
  },
  {
   "cell_type": "markdown",
   "id": "724f3e62",
   "metadata": {},
   "source": [
    "#### Basic Function Calling Implementation"
   ]
  },
  {
   "cell_type": "code",
   "id": "6dbe61da",
   "metadata": {
    "ExecuteTime": {
     "end_time": "2025-08-24T11:30:12.534306Z",
     "start_time": "2025-08-24T11:30:12.516079Z"
    }
   },
   "source": [
    "def chat_with_calculator(user_message: str):\n",
    "    \"\"\"\n",
    "    Chat with OpenAI using function calling for calculations\n",
    "    \"\"\"\n",
    "    messages = [\n",
    "        {\"role\": \"system\", \"content\": \"Yo are calculation specialist.\"},\n",
    "        {\"role\": \"user\", \"content\": user_message}\n",
    "    ]\n",
    "    \n",
    "    # Make the initial request with function definition\n",
    "    response = client.chat.completions.create(\n",
    "        model=\"gpt-5-mini\",\n",
    "        messages=messages,\n",
    "        functions=[calculator_function],\n",
    "        function_call=\"auto\"  # Let OpenAI decide when to call functions\n",
    "    )\n",
    "    \n",
    "    message = response.choices[0].message\n",
    "    if message.function_call:\n",
    "        function_name = message.function_call.name\n",
    "        function_args = json.loads(message.function_call.arguments)\n",
    "        \n",
    "        print(f\"🔧 OpenAI wants to call: {function_name}\")\n",
    "        print(f\"📝 Arguments: {function_args}\")\n",
    "        if function_name == \"calculate\":\n",
    "            result = calculate(**function_args)\n",
    "\n",
    "            messages.append({\n",
    "                \"role\": \"assistant\",\n",
    "                \"content\": None,\n",
    "                \"function_call\": {\n",
    "                    \"name\": function_name,\n",
    "                    \"arguments\": json.dumps(function_args)\n",
    "                }\n",
    "            })\n",
    "\n",
    "            messages.append({\n",
    "                \"role\": \"function\",\n",
    "                \"name\": function_name,\n",
    "                \"content\": str(result)\n",
    "            })\n",
    "            \n",
    "            # Get final response from OpenAI\n",
    "            final_response = client.chat.completions.create(\n",
    "                model=\"gpt-3.5-turbo\",\n",
    "                messages=messages\n",
    "            )\n",
    "        return final_response.choices[0].message.content\n",
    "\n",
    "\n",
    "\n",
    "        \n",
    "\n"
   ],
   "outputs": [],
   "execution_count": 11
  },
  {
   "cell_type": "code",
   "id": "421790fd",
   "metadata": {
    "ExecuteTime": {
     "end_time": "2025-08-24T11:30:47.384688Z",
     "start_time": "2025-08-24T11:30:39.365268Z"
    }
   },
   "source": [
    "# Test the function calling\n",
    "result = chat_with_calculator(\"who is the PM of India\")\n",
    "print(\"🎯 Function Calling Result:\")\n",
    "print(result)"
   ],
   "outputs": [
    {
     "name": "stdout",
     "output_type": "stream",
     "text": [
      "🎯 Function Calling Result:\n",
      "None\n"
     ]
    }
   ],
   "execution_count": 12
  },
  {
   "cell_type": "code",
   "id": "6b935835",
   "metadata": {
    "ExecuteTime": {
     "end_time": "2025-08-24T11:31:13.352480Z",
     "start_time": "2025-08-24T11:31:09.898501Z"
    }
   },
   "source": [
    "# Test the function calling\n",
    "result = chat_with_calculator(\"What's 15 * 23 + 45? Please calculate step by step.\")\n",
    "print(\"🎯 Function Calling Result:\")\n",
    "print(result)"
   ],
   "outputs": [
    {
     "name": "stdout",
     "output_type": "stream",
     "text": [
      "🔧 OpenAI wants to call: calculate\n",
      "📝 Arguments: {'operation': '*', 'a': 15, 'b': 23}\n",
      "🎯 Function Calling Result:\n",
      "First, we perform the multiplication:\n",
      "15 * 23 = 345\n",
      "\n",
      "Next, we add 45 to the result:\n",
      "345 + 45 = 390\n",
      "\n",
      "Therefore, 15 * 23 + 45 = 390.\n"
     ]
    }
   ],
   "execution_count": 13
  },
  {
   "cell_type": "code",
   "id": "3985abd5",
   "metadata": {
    "ExecuteTime": {
     "end_time": "2025-08-24T11:31:50.970042Z",
     "start_time": "2025-08-24T11:31:47.563697Z"
    }
   },
   "source": [
    "result = chat_with_calculator(\"What's 15 * 23 + 45? Please calculate step by step.\")\n"
   ],
   "outputs": [
    {
     "name": "stdout",
     "output_type": "stream",
     "text": [
      "🔧 OpenAI wants to call: calculate\n",
      "📝 Arguments: {'operation': '*', 'a': 15, 'b': 23}\n"
     ]
    }
   ],
   "execution_count": 14
  },
  {
   "cell_type": "code",
   "execution_count": null,
   "id": "faf85bcc",
   "metadata": {},
   "outputs": [
    {
     "name": "stdout",
     "output_type": "stream",
     "text": [
      "Step 1: Multiply 15 and 23, which equals 345.\n",
      "Now the expression becomes 345 + 45. \n",
      "\n",
      "Step 2: Add 345 and 45.\n",
      "345 + 45 = 390\n",
      "\n",
      "Therefore, 15 * 23 + 45 = 390.\n"
     ]
    }
   ],
   "source": [
    "print(result)"
   ]
  },
  {
   "cell_type": "code",
   "id": "8b824b6c",
   "metadata": {
    "ExecuteTime": {
     "end_time": "2025-08-24T11:32:28.376649Z",
     "start_time": "2025-08-24T11:32:28.356936Z"
    }
   },
   "source": [
    "# More complex example - Weather API\n",
    "def get_weather(city: str, country: str = \"US\") -> str:\n",
    "    \"\"\"\n",
    "    Get current weather for a city\n",
    "    \n",
    "    Args:\n",
    "        city: Name of the city\n",
    "        country: Country code (default: US)\n",
    "    \n",
    "    Returns:\n",
    "        Weather information as string\n",
    "    \"\"\"\n",
    "    # Using a mock weather API for demonstration\n",
    "    # In real implementation, you'd use actual weather API\n",
    "    mock_weather_data = {\n",
    "        \"new york\": {\"temp\": 22, \"condition\": \"sunny\", \"humidity\": 60},\n",
    "        \"london\": {\"temp\": 15, \"condition\": \"cloudy\", \"humidity\": 80},\n",
    "        \"tokyo\": {\"temp\": 28, \"condition\": \"rainy\", \"humidity\": 75}\n",
    "    }\n",
    "    \n",
    "    city_key = city.lower()\n",
    "    if city_key in mock_weather_data:\n",
    "        data = mock_weather_data[city_key]\n",
    "        return f\"Weather in {city}: {data['temp']}°C, {data['condition']}, humidity: {data['humidity']}%\"\n",
    "    else:\n",
    "        return f\"Weather data not available for {city}\"\n",
    "\n",
    "# Define weather function schema\n",
    "weather_function = {\n",
    "    \"name\": \"get_weather\",\n",
    "    \"description\": \"Get current weather information for a specific city\",\n",
    "    \"parameters\": {\n",
    "        \"type\": \"object\",\n",
    "        \"properties\": {\n",
    "            \"city\": {\n",
    "                \"type\": \"string\",\n",
    "                \"description\": \"Name of the city\"\n",
    "            },\n",
    "            \"country\": {\n",
    "                \"type\": \"string\",\n",
    "                \"description\": \"Country code (e.g., US, UK, JP)\",\n",
    "                \"default\": \"US\"\n",
    "            }\n",
    "        },\n",
    "        \"required\": [\"city\"]\n",
    "    }\n",
    "}\n",
    "\n",
    "print(\"🌤️ Weather function ready!\")"
   ],
   "outputs": [
    {
     "name": "stdout",
     "output_type": "stream",
     "text": [
      "🌤️ Weather function ready!\n"
     ]
    }
   ],
   "execution_count": 15
  },
  {
   "cell_type": "code",
   "execution_count": null,
   "id": "bdae7f35",
   "metadata": {},
   "outputs": [],
   "source": []
  },
  {
   "cell_type": "code",
   "execution_count": null,
   "id": "d6c7f94d",
   "metadata": {},
   "outputs": [],
   "source": []
  },
  {
   "cell_type": "code",
   "execution_count": null,
   "id": "e697cc25",
   "metadata": {},
   "outputs": [],
   "source": []
  },
  {
   "cell_type": "markdown",
   "id": "b0c41d87",
   "metadata": {},
   "source": [
    "###  Multiple Functions Handler"
   ]
  },
  {
   "cell_type": "code",
   "id": "5d431696",
   "metadata": {
    "ExecuteTime": {
     "end_time": "2025-08-24T11:33:01.585298Z",
     "start_time": "2025-08-24T11:33:01.562474Z"
    }
   },
   "source": [
    "# Create a handler that can work with multiple functions\n",
    "class FunctionHandler:\n",
    "    def __init__(self):\n",
    "        self.functions = {\n",
    "            \"calculate\": calculate,\n",
    "            \"get_weather\": get_weather\n",
    "        }\n",
    "        \n",
    "        self.function_schemas = [\n",
    "            calculator_function,\n",
    "            weather_function\n",
    "        ]\n",
    "    \n",
    "    def call_function(self, function_name: str, arguments: dict):\n",
    "        \"\"\"Call the appropriate function with given arguments\"\"\"\n",
    "        if function_name in self.functions:\n",
    "            return self.functions[function_name](**arguments)\n",
    "        else:\n",
    "            return f\"Function {function_name} not found\"\n",
    "    \n",
    "    def chat(self, user_message: str):\n",
    "        \"\"\"Enhanced chat with multiple function support\"\"\"\n",
    "        messages = [{\"role\": \"user\", \"content\": user_message}]\n",
    "        \n",
    "        response = client.chat.completions.create(\n",
    "            model=\"gpt-3.5-turbo\",\n",
    "            messages=messages,\n",
    "            functions=self.function_schemas,\n",
    "            function_call=\"auto\"\n",
    "        )\n",
    "        \n",
    "        message = response.choices[0].message\n",
    "        \n",
    "        if message.function_call:\n",
    "            function_name = message.function_call.name\n",
    "            function_args = json.loads(message.function_call.arguments)\n",
    "            \n",
    "            print(f\"🔧 Calling function: {function_name}\")\n",
    "            print(f\"📝 Arguments: {function_args}\")\n",
    "            \n",
    "            # Execute the function\n",
    "            result = self.call_function(function_name, function_args)\n",
    "            \n",
    "            # Continue conversation with function result\n",
    "            messages.extend([\n",
    "                {\n",
    "                    \"role\": \"assistant\",\n",
    "                    \"content\": None,\n",
    "                    \"function_call\": {\n",
    "                        \"name\": function_name,\n",
    "                        \"arguments\": json.dumps(function_args)\n",
    "                    }\n",
    "                },\n",
    "                {\n",
    "                    \"role\": \"function\",\n",
    "                    \"name\": function_name,\n",
    "                    \"content\": str(result)\n",
    "                }\n",
    "            ])\n",
    "            \n",
    "            final_response = client.chat.completions.create(\n",
    "                model=\"gpt-3.5-turbo\",\n",
    "                messages=messages\n",
    "            )\n",
    "            \n",
    "            return final_response.choices[0].message.content\n",
    "        \n",
    "        return message.content\n",
    "\n",
    "# Initialize the handler\n",
    "handler = FunctionHandler()\n",
    "print(\"🤖 Multi-function handler ready!\")"
   ],
   "outputs": [
    {
     "name": "stdout",
     "output_type": "stream",
     "text": [
      "🤖 Multi-function handler ready!\n"
     ]
    }
   ],
   "execution_count": 16
  },
  {
   "cell_type": "code",
   "id": "c5f1dd85",
   "metadata": {
    "ExecuteTime": {
     "end_time": "2025-08-24T11:33:13.392889Z",
     "start_time": "2025-08-24T11:33:11.579819Z"
    }
   },
   "source": [
    "handler.chat(\"what is the Temperature Tokyo\")"
   ],
   "outputs": [
    {
     "name": "stdout",
     "output_type": "stream",
     "text": [
      "🔧 Calling function: get_weather\n",
      "📝 Arguments: {'city': 'Tokyo', 'country': 'JP'}\n"
     ]
    },
    {
     "data": {
      "text/plain": [
       "'The current temperature in Tokyo is 28°C with rainy weather and a humidity of 75%.'"
      ]
     },
     "execution_count": 17,
     "metadata": {},
     "output_type": "execute_result"
    }
   ],
   "execution_count": 17
  },
  {
   "cell_type": "code",
   "id": "1353285a",
   "metadata": {
    "ExecuteTime": {
     "end_time": "2025-08-24T11:33:50.545216Z",
     "start_time": "2025-08-24T11:33:48.617106Z"
    }
   },
   "source": [
    "handler.chat(\"what is the result of 2+2\")"
   ],
   "outputs": [
    {
     "name": "stdout",
     "output_type": "stream",
     "text": [
      "🔧 Calling function: calculate\n",
      "📝 Arguments: {'operation': '+', 'a': 2, 'b': 2}\n"
     ]
    },
    {
     "data": {
      "text/plain": [
       "'The result of 2 + 2 is 4.'"
      ]
     },
     "execution_count": 18,
     "metadata": {},
     "output_type": "execute_result"
    }
   ],
   "execution_count": 18
  },
  {
   "cell_type": "code",
   "execution_count": null,
   "id": "63f71e47",
   "metadata": {},
   "outputs": [],
   "source": []
  }
 ],
 "metadata": {
  "kernelspec": {
   "display_name": "base",
   "language": "python",
   "name": "python3"
  },
  "language_info": {
   "codemirror_mode": {
    "name": "ipython",
    "version": 3
   },
   "file_extension": ".py",
   "mimetype": "text/x-python",
   "name": "python",
   "nbconvert_exporter": "python",
   "pygments_lexer": "ipython3",
   "version": "3.9.7"
  }
 },
 "nbformat": 4,
 "nbformat_minor": 5
}
